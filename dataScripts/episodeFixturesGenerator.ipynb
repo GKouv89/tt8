{
  "nbformat": 4,
  "nbformat_minor": 0,
  "metadata": {
    "colab": {
      "provenance": [],
      "mount_file_id": "1Hl1AJhrcdh04Le5sifHFqpNzL3ai1PlR",
      "authorship_tag": "ABX9TyNVxHVB5drKA8uKM5Jh0Q2Q",
      "include_colab_link": true
    },
    "kernelspec": {
      "name": "python3",
      "display_name": "Python 3"
    },
    "language_info": {
      "name": "python"
    }
  },
  "cells": [
    {
      "cell_type": "markdown",
      "metadata": {
        "id": "view-in-github",
        "colab_type": "text"
      },
      "source": [
        "<a href=\"https://colab.research.google.com/github/GKouv89/tt8/blob/tempNavigation/dataScripts/episodeFixturesGenerator.ipynb\" target=\"_parent\"><img src=\"https://colab.research.google.com/assets/colab-badge.svg\" alt=\"Open In Colab\"/></a>"
      ]
    },
    {
      "cell_type": "code",
      "execution_count": null,
      "metadata": {
        "id": "bkbw_vY9sY3B"
      },
      "outputs": [],
      "source": [
        "# Load axis fixture"
      ]
    },
    {
      "cell_type": "code",
      "source": [
        "path = \"/content/drive/MyDrive/TT8/axes_thematic_2_dump.yaml\""
      ],
      "metadata": {
        "id": "0xSKjb79uXXu"
      },
      "execution_count": null,
      "outputs": []
    },
    {
      "cell_type": "code",
      "source": [
        "import yaml\n",
        "from pathlib import Path"
      ],
      "metadata": {
        "id": "gy_SXpmNwNTE"
      },
      "execution_count": null,
      "outputs": []
    },
    {
      "cell_type": "markdown",
      "source": [
        "Read axis dump. This way we get the primary keys for the axes of the thematic of the session we are handling."
      ],
      "metadata": {
        "id": "NzI3MFyR_D1A"
      }
    },
    {
      "cell_type": "code",
      "source": [
        "conf = yaml.safe_load(Path(path).read_text())\n",
        "axis_dict = {}\n",
        "for axis in conf:\n",
        "  axis_dict[axis['fields']['axis_id_in_thematic']] = axis['pk']\n",
        "axis_dict"
      ],
      "metadata": {
        "colab": {
          "base_uri": "https://localhost:8080/"
        },
        "id": "CUmpaiNfurSh",
        "outputId": "a1c73f0c-1c61-4852-ed26-219507fc77b1"
      },
      "execution_count": null,
      "outputs": [
        {
          "output_type": "execute_result",
          "data": {
            "text/plain": [
              "{1: 9, 2: 10, 3: 11, 4: 12, 5: 13, 6: 14, 7: 15, 8: 16}"
            ]
          },
          "metadata": {},
          "execution_count": 4
        }
      ]
    },
    {
      "cell_type": "code",
      "source": [
        "session_id = 3"
      ],
      "metadata": {
        "id": "lhIgwwJZwI91"
      },
      "execution_count": null,
      "outputs": []
    },
    {
      "cell_type": "code",
      "source": [
        "import os\n",
        "import fnmatch"
      ],
      "metadata": {
        "id": "dUKag5SJxEcR"
      },
      "execution_count": null,
      "outputs": []
    },
    {
      "cell_type": "code",
      "source": [
        "session_path = \"/content/drive/MyDrive/TT8/CSV Files\""
      ],
      "metadata": {
        "id": "6a0ZrI-sxGQh"
      },
      "execution_count": null,
      "outputs": []
    },
    {
      "cell_type": "code",
      "source": [
        "scene_folders = fnmatch.filter(os.listdir(session_path), \"Scene*\")"
      ],
      "metadata": {
        "id": "uXMaY4UwxKLZ"
      },
      "execution_count": null,
      "outputs": []
    },
    {
      "cell_type": "markdown",
      "source": [
        "Go over the folder with the data. Start preparing the fixtures (model name, session name, ID in session) and collect all IDs."
      ],
      "metadata": {
        "id": "UHIQsiHs_KfY"
      }
    },
    {
      "cell_type": "code",
      "source": [
        "episodes = []\n",
        "ep_ids = []\n",
        "model_name = 'biosignalsindex.Episode'\n",
        "ep_id = 'episode_id_in_session'\n",
        "for folder in scene_folders:\n",
        "  ep_dict = {}\n",
        "  ep_dict['fields'] = {}\n",
        "  ep_dict['fields']['session'] = session_id\n",
        "  ep_ids.append(folder.split('Scene')[1])\n",
        "  ep_dict['fields'][ep_id] = folder.split('Scene')[1]\n",
        "  ep_dict['model'] = model_name\n",
        "  episodes.append(ep_dict)"
      ],
      "metadata": {
        "id": "u6PX7beMxcZo"
      },
      "execution_count": null,
      "outputs": []
    },
    {
      "cell_type": "code",
      "source": [
        "print(ep_ids)"
      ],
      "metadata": {
        "colab": {
          "base_uri": "https://localhost:8080/"
        },
        "id": "S4k3X4xK0KC9",
        "outputId": "ee1517cd-1ef3-4199-cee4-6c8654806162"
      },
      "execution_count": null,
      "outputs": [
        {
          "output_type": "stream",
          "name": "stdout",
          "text": [
            "['83', '67', '89', '34', '38', '15', '36', '30', '35', '81', '7', '48', '26']\n"
          ]
        }
      ]
    },
    {
      "cell_type": "markdown",
      "source": [
        "Here, we have the episodes with the axes they belong to. Manually insert for now. We only keep episodes that are all of the following:\n",
        "\n",
        "1. Superepisodes\n",
        "2. Have an axis\n",
        "3. Have been chosen by the curation\n",
        "\n"
      ],
      "metadata": {
        "id": "_aTfaE-A_Uxv"
      }
    },
    {
      "cell_type": "code",
      "source": [
        "eps_with_axes = {\n",
        "  83: (8, ),\n",
        "  67: (7, ),\n",
        "  89: (6, ),\n",
        "  34: (2, ),\n",
        "  38: (2, ),\n",
        "  36: (1, ),\n",
        "  81: (7, ),\n",
        "  48: (4, ),\n",
        "}"
      ],
      "metadata": {
        "id": "sHSzfar30Of9"
      },
      "execution_count": null,
      "outputs": []
    },
    {
      "cell_type": "markdown",
      "source": [
        "Now, we will go through the dictionary, and assign each episode the primary key of the axis it belongs to."
      ],
      "metadata": {
        "id": "MbkTPe6m_hTT"
      }
    },
    {
      "cell_type": "code",
      "source": [
        "for episode in episodes:\n",
        "  x = int(episode['fields'][ep_id]) \n",
        "  if x in eps_with_axes.keys():\n",
        "    axes_for_ep = list(eps_with_axes[x])\n",
        "    episode['fields']['axis'] = [axis_dict[axis] for axis in axes_for_ep]"
      ],
      "metadata": {
        "id": "vrbh_2832x3H",
        "colab": {
          "base_uri": "https://localhost:8080/"
        },
        "outputId": "df821d2c-e29e-4249-8a8c-6319a263e1c3"
      },
      "execution_count": null,
      "outputs": [
        {
          "output_type": "stream",
          "name": "stdout",
          "text": [
            "{'fields': {'session': 3, 'episode_id_in_session': '83', 'axis': [16]}, 'model': 'biosignalsindex.Episode'} [8]\n",
            "{'fields': {'session': 3, 'episode_id_in_session': '67', 'axis': [15]}, 'model': 'biosignalsindex.Episode'} [7]\n",
            "{'fields': {'session': 3, 'episode_id_in_session': '89', 'axis': [14]}, 'model': 'biosignalsindex.Episode'} [6]\n",
            "{'fields': {'session': 3, 'episode_id_in_session': '34', 'axis': [10]}, 'model': 'biosignalsindex.Episode'} [2]\n",
            "{'fields': {'session': 3, 'episode_id_in_session': '38', 'axis': [10]}, 'model': 'biosignalsindex.Episode'} [2]\n",
            "{'fields': {'session': 3, 'episode_id_in_session': '15'}, 'model': 'biosignalsindex.Episode'} [2]\n",
            "{'fields': {'session': 3, 'episode_id_in_session': '36', 'axis': [9]}, 'model': 'biosignalsindex.Episode'} [1]\n",
            "{'fields': {'session': 3, 'episode_id_in_session': '30'}, 'model': 'biosignalsindex.Episode'} [1]\n",
            "{'fields': {'session': 3, 'episode_id_in_session': '35'}, 'model': 'biosignalsindex.Episode'} [1]\n",
            "{'fields': {'session': 3, 'episode_id_in_session': '81', 'axis': [15]}, 'model': 'biosignalsindex.Episode'} [7]\n",
            "{'fields': {'session': 3, 'episode_id_in_session': '7'}, 'model': 'biosignalsindex.Episode'} [7]\n",
            "{'fields': {'session': 3, 'episode_id_in_session': '48', 'axis': [12]}, 'model': 'biosignalsindex.Episode'} [4]\n",
            "{'fields': {'session': 3, 'episode_id_in_session': '26'}, 'model': 'biosignalsindex.Episode'} [4]\n",
            "{1: 9, 2: 10, 3: 11, 4: 12, 5: 13, 6: 14, 7: 15, 8: 16}\n"
          ]
        }
      ]
    },
    {
      "cell_type": "markdown",
      "source": [
        "In case there are episodes that haven't been assigned an axis yet, we exclude them."
      ],
      "metadata": {
        "id": "Mq7KSHOcAEs0"
      }
    },
    {
      "cell_type": "code",
      "source": [
        "episodes_final = [episode for episode in episodes if 'axis' in episode['fields'].keys()]"
      ],
      "metadata": {
        "id": "GHHr17Oi6zXb"
      },
      "execution_count": null,
      "outputs": []
    },
    {
      "cell_type": "code",
      "source": [
        "print(len(episodes_final))\n",
        "print(len(episodes))\n",
        "diff = [episode for episode in episodes if episode not in episodes_final]\n",
        "diff"
      ],
      "metadata": {
        "colab": {
          "base_uri": "https://localhost:8080/"
        },
        "id": "MsEW5-Bn6_6L",
        "outputId": "e5951fff-aff6-4a79-b528-ed92213b60b8"
      },
      "execution_count": null,
      "outputs": [
        {
          "output_type": "stream",
          "name": "stdout",
          "text": [
            "8\n",
            "13\n"
          ]
        },
        {
          "output_type": "execute_result",
          "data": {
            "text/plain": [
              "[{'fields': {'session': 3, 'episode_id_in_session': '15'},\n",
              "  'model': 'biosignalsindex.Episode'},\n",
              " {'fields': {'session': 3, 'episode_id_in_session': '30'},\n",
              "  'model': 'biosignalsindex.Episode'},\n",
              " {'fields': {'session': 3, 'episode_id_in_session': '35'},\n",
              "  'model': 'biosignalsindex.Episode'},\n",
              " {'fields': {'session': 3, 'episode_id_in_session': '7'},\n",
              "  'model': 'biosignalsindex.Episode'},\n",
              " {'fields': {'session': 3, 'episode_id_in_session': '26'},\n",
              "  'model': 'biosignalsindex.Episode'}]"
            ]
          },
          "metadata": {},
          "execution_count": 25
        }
      ]
    },
    {
      "cell_type": "markdown",
      "source": [
        "Voila!"
      ],
      "metadata": {
        "id": "wD60-WnGAIb9"
      }
    },
    {
      "cell_type": "code",
      "source": [
        "print(yaml.safe_dump(episodes_final, default_flow_style=None))"
      ],
      "metadata": {
        "colab": {
          "base_uri": "https://localhost:8080/"
        },
        "id": "ET04-2Ra7Nau",
        "outputId": "d28e1efb-2797-4b1e-f647-c28c632f7674"
      },
      "execution_count": null,
      "outputs": [
        {
          "output_type": "stream",
          "name": "stdout",
          "text": [
            "- fields:\n",
            "    axis: [16]\n",
            "    episode_id_in_session: '83'\n",
            "    session: 3\n",
            "  model: biosignalsindex.Episode\n",
            "- fields:\n",
            "    axis: [15]\n",
            "    episode_id_in_session: '67'\n",
            "    session: 3\n",
            "  model: biosignalsindex.Episode\n",
            "- fields:\n",
            "    axis: [14]\n",
            "    episode_id_in_session: '89'\n",
            "    session: 3\n",
            "  model: biosignalsindex.Episode\n",
            "- fields:\n",
            "    axis: [10]\n",
            "    episode_id_in_session: '34'\n",
            "    session: 3\n",
            "  model: biosignalsindex.Episode\n",
            "- fields:\n",
            "    axis: [10]\n",
            "    episode_id_in_session: '38'\n",
            "    session: 3\n",
            "  model: biosignalsindex.Episode\n",
            "- fields:\n",
            "    axis: [9]\n",
            "    episode_id_in_session: '36'\n",
            "    session: 3\n",
            "  model: biosignalsindex.Episode\n",
            "- fields:\n",
            "    axis: [15]\n",
            "    episode_id_in_session: '81'\n",
            "    session: 3\n",
            "  model: biosignalsindex.Episode\n",
            "- fields:\n",
            "    axis: [12]\n",
            "    episode_id_in_session: '48'\n",
            "    session: 3\n",
            "  model: biosignalsindex.Episode\n",
            "\n"
          ]
        }
      ]
    }
  ]
}